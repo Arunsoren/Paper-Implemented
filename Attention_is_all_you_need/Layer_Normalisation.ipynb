{
  "nbformat": 4,
  "nbformat_minor": 0,
  "metadata": {
    "colab": {
      "provenance": []
    },
    "kernelspec": {
      "name": "python3",
      "display_name": "Python 3"
    },
    "language_info": {
      "name": "python"
    }
  },
  "cells": [
    {
      "cell_type": "code",
      "execution_count": 2,
      "metadata": {
        "id": "Ob714pXUdb6b"
      },
      "outputs": [],
      "source": [
        "import torch\n",
        "from torch import nn"
      ]
    },
    {
      "cell_type": "code",
      "source": [
        "inputs = torch.Tensor([[[0.2, 0.1, 0.3], [0.5, 0.1, 0.1]]])\n",
        "B, S, E = inputs.size()\n",
        "inputs = inputs.reshape(S,B,E)\n",
        "inputs.size()"
      ],
      "metadata": {
        "colab": {
          "base_uri": "https://localhost:8080/"
        },
        "id": "c2Yz6DGBdiJu",
        "outputId": "e5971675-5413-437f-9be9-184671abdfe3"
      },
      "execution_count": 5,
      "outputs": [
        {
          "output_type": "execute_result",
          "data": {
            "text/plain": [
              "torch.Size([2, 1, 3])"
            ]
          },
          "metadata": {},
          "execution_count": 5
        }
      ]
    },
    {
      "cell_type": "code",
      "source": [
        "parameter_shape = inputs.size()[-2:]\n",
        "# the lr parameters\n",
        "gamma = nn.Parameter(torch.ones(parameter_shape))\n",
        "beta = nn.Parameter(torch.zeros(parameter_shape))"
      ],
      "metadata": {
        "id": "lc4EgqXDdiMK"
      },
      "execution_count": 6,
      "outputs": []
    },
    {
      "cell_type": "code",
      "source": [
        "gamma.size(), beta.size()"
      ],
      "metadata": {
        "colab": {
          "base_uri": "https://localhost:8080/"
        },
        "id": "aSdvnL9PdiOw",
        "outputId": "85a807ed-5f28-4520-c55a-8dd19e3aef5e"
      },
      "execution_count": 7,
      "outputs": [
        {
          "output_type": "execute_result",
          "data": {
            "text/plain": [
              "(torch.Size([1, 3]), torch.Size([1, 3]))"
            ]
          },
          "metadata": {},
          "execution_count": 7
        }
      ]
    },
    {
      "cell_type": "code",
      "source": [
        "dims = [-(i+1)  for i in range(len(parameter_shape))]"
      ],
      "metadata": {
        "id": "PNyOMu9QdiRh"
      },
      "execution_count": 8,
      "outputs": []
    },
    {
      "cell_type": "code",
      "source": [
        "dims"
      ],
      "metadata": {
        "colab": {
          "base_uri": "https://localhost:8080/"
        },
        "id": "d4dmLWKLdiT5",
        "outputId": "de3bd9e5-87c1-4acc-d59b-f6bf62810159"
      },
      "execution_count": 9,
      "outputs": [
        {
          "output_type": "execute_result",
          "data": {
            "text/plain": [
              "[-1, -2]"
            ]
          },
          "metadata": {},
          "execution_count": 9
        }
      ]
    },
    {
      "cell_type": "code",
      "source": [
        "mean = inputs.mean(dim = dims, keepdim = True)\n",
        "mean.size()"
      ],
      "metadata": {
        "colab": {
          "base_uri": "https://localhost:8080/"
        },
        "id": "vxkFnNnldiWP",
        "outputId": "a7cdeb99-1ee9-460f-b6f5-15fdaa9d2193"
      },
      "execution_count": 10,
      "outputs": [
        {
          "output_type": "execute_result",
          "data": {
            "text/plain": [
              "torch.Size([2, 1, 1])"
            ]
          },
          "metadata": {},
          "execution_count": 10
        }
      ]
    },
    {
      "cell_type": "code",
      "source": [
        "mean"
      ],
      "metadata": {
        "colab": {
          "base_uri": "https://localhost:8080/"
        },
        "id": "T6r79cwHdiY0",
        "outputId": "2f30829b-523b-4239-8618-906574d7ebf9"
      },
      "execution_count": 11,
      "outputs": [
        {
          "output_type": "execute_result",
          "data": {
            "text/plain": [
              "tensor([[[0.2000]],\n",
              "\n",
              "        [[0.2333]]])"
            ]
          },
          "metadata": {},
          "execution_count": 11
        }
      ]
    },
    {
      "cell_type": "code",
      "source": [
        "var = ((inputs- mean) **2).mean(dim = dims, keepdim = True)\n",
        "epsilon = 1e-5\n",
        "std = (var + epsilon).sqrt()\n",
        "std\n"
      ],
      "metadata": {
        "colab": {
          "base_uri": "https://localhost:8080/"
        },
        "id": "gvnH7UVVdibo",
        "outputId": "eb2eb341-686e-46e0-aca4-7f4ae78aead6"
      },
      "execution_count": 12,
      "outputs": [
        {
          "output_type": "execute_result",
          "data": {
            "text/plain": [
              "tensor([[[0.0817]],\n",
              "\n",
              "        [[0.1886]]])"
            ]
          },
          "metadata": {},
          "execution_count": 12
        }
      ]
    },
    {
      "cell_type": "code",
      "source": [
        " y = (inputs- mean) / std\n",
        " y"
      ],
      "metadata": {
        "colab": {
          "base_uri": "https://localhost:8080/"
        },
        "id": "3SRE3fzsdieD",
        "outputId": "ebd4af24-fc0d-4f86-96d4-066615fb9abb"
      },
      "execution_count": 13,
      "outputs": [
        {
          "output_type": "execute_result",
          "data": {
            "text/plain": [
              "tensor([[[ 0.0000, -1.2238,  1.2238]],\n",
              "\n",
              "        [[ 1.4140, -0.7070, -0.7070]]])"
            ]
          },
          "metadata": {},
          "execution_count": 13
        }
      ]
    },
    {
      "cell_type": "code",
      "source": [
        "out = gamma *y + beta\n",
        "out"
      ],
      "metadata": {
        "colab": {
          "base_uri": "https://localhost:8080/"
        },
        "id": "2rBADLGYdigg",
        "outputId": "3a0350bf-f974-41ab-830a-6e2185f77b69"
      },
      "execution_count": 14,
      "outputs": [
        {
          "output_type": "execute_result",
          "data": {
            "text/plain": [
              "tensor([[[ 0.0000, -1.2238,  1.2238]],\n",
              "\n",
              "        [[ 1.4140, -0.7070, -0.7070]]], grad_fn=<AddBackward0>)"
            ]
          },
          "metadata": {},
          "execution_count": 14
        }
      ]
    },
    {
      "cell_type": "markdown",
      "source": [
        "**Wrappping all in a Class**"
      ],
      "metadata": {
        "id": "wZO6XA82fsqL"
      }
    },
    {
      "cell_type": "code",
      "source": [
        "import torch\n",
        "from torch import nn\n",
        "\n",
        "class Layer_Normalisation():\n",
        "  def __init__(self, parameters_shape, eps=1e-5):\n",
        "    self.parameters_shape = parameters_shape\n",
        "    self.eps = eps\n",
        "    self.gamma = nn.Parameter(torch.ones(parameters_shape))\n",
        "    self.beta = nn.Parameter(torch.zeros(parameters_shape))\n",
        "\n",
        "  def forward(self, input):\n",
        "    dims = [-(i+1) for i in range(len(self.parameters_shape))]\n",
        "    mean = inputs.mean(dim=dims, keepdim= True)\n",
        "    print(f\"Mean \\n ({mean.size()}): \\n {mean}\")\n",
        "\n",
        "    var = ((inputs - mean)**2).mean(dim=dims, keepdim = True)\n",
        "    std = (var+self.eps).sqrt()\n",
        "    print(f\"Standard Deviation \\n ({std.size()}): \\n {std}\")\n",
        "\n",
        "    y = (inputs-mean)/std\n",
        "    print(f\"y \\n ({y.size()}) = \\n {y}\")\n",
        "\n",
        "    out = self.gamma*y + self.beta\n",
        "    print(f\"out \\n ({out.size()}) = \\n {out}\")\n",
        "    return out\n",
        ""
      ],
      "metadata": {
        "id": "CHqslhzrdijE"
      },
      "execution_count": 24,
      "outputs": []
    },
    {
      "cell_type": "code",
      "source": [
        "batch_size = 3\n",
        "sentence_length = 5\n",
        "embedding_dim = 8\n",
        "inputs = torch.randn(sentence_length, batch_size, embedding_dim)\n",
        "\n",
        "print(f\"input \\n ({inputs.size()}) = \\n {inputs}\")"
      ],
      "metadata": {
        "colab": {
          "base_uri": "https://localhost:8080/"
        },
        "id": "_PI4fwvUdil4",
        "outputId": "29c74ba6-c82e-4509-fff1-aacd7adf771a"
      },
      "execution_count": 25,
      "outputs": [
        {
          "output_type": "stream",
          "name": "stdout",
          "text": [
            "input \n",
            " (torch.Size([5, 3, 8])) = \n",
            " tensor([[[-1.1078e-01, -1.9829e+00, -1.8426e-01,  1.3140e-01, -1.1800e-01,\n",
            "           5.7795e-01,  1.6297e+00,  5.7278e-01],\n",
            "         [-1.1299e+00,  1.8223e+00, -3.7062e-01, -7.4907e-01, -1.0050e+00,\n",
            "          -1.1695e-01, -6.0395e-01, -2.2386e+00],\n",
            "         [ 3.1496e-01,  4.7026e-01, -1.5214e-02, -7.4039e-01, -2.6066e-01,\n",
            "           5.2195e-01,  4.7541e-01,  6.8642e-01]],\n",
            "\n",
            "        [[ 2.6270e+00,  1.3458e+00, -1.8171e+00,  1.0486e+00,  1.5161e+00,\n",
            "           8.5030e-02, -1.3066e-01, -1.4093e-01],\n",
            "         [-8.9171e-01,  6.5222e-01,  1.3927e-01,  1.4040e+00,  9.9691e-01,\n",
            "          -1.1896e+00, -6.3867e-01, -3.9875e-01],\n",
            "         [-1.7499e+00, -6.5021e-01, -3.9976e-01,  3.6300e-02, -7.0304e-01,\n",
            "          -4.0278e-01, -4.3826e-02,  6.1389e-02]],\n",
            "\n",
            "        [[ 9.5991e-01, -8.3396e-01, -3.1445e-01,  1.8404e-01,  1.6657e+00,\n",
            "          -8.3050e-01,  2.4855e-01,  2.6059e-01],\n",
            "         [-2.2159e+00,  6.4653e-02,  8.6292e-02, -3.7711e-01, -1.0700e+00,\n",
            "          -2.0749e+00,  4.4693e-01, -1.3467e-01],\n",
            "         [ 5.2715e-04, -6.4126e-01,  8.2404e-01, -2.6999e-01,  7.0697e-01,\n",
            "          -1.1654e+00,  1.1593e+00, -2.3732e-01]],\n",
            "\n",
            "        [[ 6.0754e-01,  6.4662e-01, -1.3203e-01,  2.1760e-01, -2.9302e+00,\n",
            "           2.2605e+00,  1.6447e+00,  5.3462e-01],\n",
            "         [ 8.8024e-01,  8.7398e-01,  4.4079e-01,  3.2000e-01,  1.2883e+00,\n",
            "           1.5431e-01, -6.4187e-01,  1.0195e+00],\n",
            "         [ 1.6889e+00,  3.2504e-01, -1.2476e+00, -2.1914e+00, -8.3567e-01,\n",
            "          -6.8414e-01,  7.3898e-01,  2.4474e+00]],\n",
            "\n",
            "        [[-4.5331e-01, -1.2260e+00,  9.0392e-01,  3.5245e-01, -4.6784e-01,\n",
            "          -2.7968e-01,  4.1327e-02,  1.2186e+00],\n",
            "         [-5.2159e-01, -4.0172e-02, -1.2321e+00, -1.1146e+00, -1.0255e+00,\n",
            "           6.8261e-02, -8.9264e-01,  9.4736e-01],\n",
            "         [ 8.9860e-01, -9.8008e-01,  1.1977e+00,  4.7132e-01, -1.1997e+00,\n",
            "           4.7480e-01, -2.2122e-01,  1.7774e-01]]])\n"
          ]
        }
      ]
    },
    {
      "cell_type": "code",
      "source": [
        "layer_norm = Layer_Normalisation(inputs.size()[-2:])"
      ],
      "metadata": {
        "id": "qtWG7m3ydioR"
      },
      "execution_count": 28,
      "outputs": []
    },
    {
      "cell_type": "code",
      "source": [
        "out = layer_norm.forward(inputs)"
      ],
      "metadata": {
        "colab": {
          "base_uri": "https://localhost:8080/"
        },
        "id": "lorD1JBbdiqy",
        "outputId": "0dae6dda-d76d-414d-e5a0-0bfeb88b5761"
      },
      "execution_count": 29,
      "outputs": [
        {
          "output_type": "stream",
          "name": "stdout",
          "text": [
            "Mean \n",
            " (torch.Size([5, 1, 1])): \n",
            " tensor([[[-0.1010]],\n",
            "\n",
            "        [[ 0.0315]],\n",
            "\n",
            "        [[-0.1482]],\n",
            "\n",
            "        [[ 0.3094]],\n",
            "\n",
            "        [[-0.1209]]])\n",
            "Standard Deviation \n",
            " (torch.Size([5, 1, 1])): \n",
            " tensor([[[0.9284]],\n",
            "\n",
            "        [[1.0394]],\n",
            "\n",
            "        [[0.9122]],\n",
            "\n",
            "        [[1.2455]],\n",
            "\n",
            "        [[0.7916]]])\n",
            "y \n",
            " (torch.Size([5, 3, 8])) = \n",
            " tensor([[[-0.0106, -2.0271, -0.0897,  0.2503, -0.0183,  0.7313,  1.8642,\n",
            "           0.7257],\n",
            "         [-1.1084,  2.0716, -0.2905, -0.6981, -0.9738, -0.0172, -0.5418,\n",
            "          -2.3026],\n",
            "         [ 0.4480,  0.6153,  0.0924, -0.6888, -0.1720,  0.6710,  0.6209,\n",
            "           0.8481]],\n",
            "\n",
            "        [[ 2.4971,  1.2645, -1.7785,  0.9785,  1.4283,  0.0515, -0.1560,\n",
            "          -0.1659],\n",
            "         [-0.8882,  0.5972,  0.1037,  1.3205,  0.9288, -1.1748, -0.6448,\n",
            "          -0.4139],\n",
            "         [-1.7138, -0.6559, -0.4149,  0.0046, -0.7067, -0.4178, -0.0725,\n",
            "           0.0288]],\n",
            "\n",
            "        [[ 1.2148, -0.7517, -0.1822,  0.3643,  1.9886, -0.7479,  0.4350,\n",
            "           0.4482],\n",
            "         [-2.2667,  0.2334,  0.2571, -0.2509, -1.0105, -2.1122,  0.6525,\n",
            "           0.0149],\n",
            "         [ 0.1631, -0.5405,  1.0659, -0.1335,  0.9375, -1.1150,  1.4335,\n",
            "          -0.0976]],\n",
            "\n",
            "        [[ 0.2394,  0.2707, -0.3544, -0.0737, -2.6010,  1.5665,  1.0721,\n",
            "           0.1808],\n",
            "         [ 0.4583,  0.4533,  0.1055,  0.0085,  0.7860, -0.1245, -0.7638,\n",
            "           0.5701],\n",
            "         [ 1.1075,  0.0125, -1.2501, -2.0079, -0.9194, -0.7977,  0.3449,\n",
            "           1.7165]],\n",
            "\n",
            "        [[-0.4199, -1.3960,  1.2947,  0.5980, -0.4383, -0.2006,  0.2050,\n",
            "           1.6923],\n",
            "         [-0.5062,  0.1020, -1.4037, -1.2554, -1.1428,  0.2390, -0.9749,\n",
            "           1.3496],\n",
            "         [ 1.2880, -1.0854,  1.6659,  0.7482, -1.3628,  0.7526, -0.1267,\n",
            "           0.3773]]])\n",
            "out \n",
            " (torch.Size([5, 3, 8])) = \n",
            " tensor([[[-0.0106, -2.0271, -0.0897,  0.2503, -0.0183,  0.7313,  1.8642,\n",
            "           0.7257],\n",
            "         [-1.1084,  2.0716, -0.2905, -0.6981, -0.9738, -0.0172, -0.5418,\n",
            "          -2.3026],\n",
            "         [ 0.4480,  0.6153,  0.0924, -0.6888, -0.1720,  0.6710,  0.6209,\n",
            "           0.8481]],\n",
            "\n",
            "        [[ 2.4971,  1.2645, -1.7785,  0.9785,  1.4283,  0.0515, -0.1560,\n",
            "          -0.1659],\n",
            "         [-0.8882,  0.5972,  0.1037,  1.3205,  0.9288, -1.1748, -0.6448,\n",
            "          -0.4139],\n",
            "         [-1.7138, -0.6559, -0.4149,  0.0046, -0.7067, -0.4178, -0.0725,\n",
            "           0.0288]],\n",
            "\n",
            "        [[ 1.2148, -0.7517, -0.1822,  0.3643,  1.9886, -0.7479,  0.4350,\n",
            "           0.4482],\n",
            "         [-2.2667,  0.2334,  0.2571, -0.2509, -1.0105, -2.1122,  0.6525,\n",
            "           0.0149],\n",
            "         [ 0.1631, -0.5405,  1.0659, -0.1335,  0.9375, -1.1150,  1.4335,\n",
            "          -0.0976]],\n",
            "\n",
            "        [[ 0.2394,  0.2707, -0.3544, -0.0737, -2.6010,  1.5665,  1.0721,\n",
            "           0.1808],\n",
            "         [ 0.4583,  0.4533,  0.1055,  0.0085,  0.7860, -0.1245, -0.7638,\n",
            "           0.5701],\n",
            "         [ 1.1075,  0.0125, -1.2501, -2.0079, -0.9194, -0.7977,  0.3449,\n",
            "           1.7165]],\n",
            "\n",
            "        [[-0.4199, -1.3960,  1.2947,  0.5980, -0.4383, -0.2006,  0.2050,\n",
            "           1.6923],\n",
            "         [-0.5062,  0.1020, -1.4037, -1.2554, -1.1428,  0.2390, -0.9749,\n",
            "           1.3496],\n",
            "         [ 1.2880, -1.0854,  1.6659,  0.7482, -1.3628,  0.7526, -0.1267,\n",
            "           0.3773]]], grad_fn=<AddBackward0>)\n"
          ]
        }
      ]
    },
    {
      "cell_type": "code",
      "source": [
        "out[0].mean(), out[0].std()"
      ],
      "metadata": {
        "colab": {
          "base_uri": "https://localhost:8080/"
        },
        "id": "mCr5_lAMditN",
        "outputId": "17159a21-f675-4ec6-f6ef-34a3611f4868"
      },
      "execution_count": 30,
      "outputs": [
        {
          "output_type": "execute_result",
          "data": {
            "text/plain": [
              "(tensor(2.4835e-09, grad_fn=<MeanBackward0>),\n",
              " tensor(1.0215, grad_fn=<StdBackward0>))"
            ]
          },
          "metadata": {},
          "execution_count": 30
        }
      ]
    },
    {
      "cell_type": "code",
      "source": [],
      "metadata": {
        "id": "rATFpMdKdiv5"
      },
      "execution_count": null,
      "outputs": []
    },
    {
      "cell_type": "code",
      "source": [],
      "metadata": {
        "id": "YVyNywcvdiyS"
      },
      "execution_count": null,
      "outputs": []
    },
    {
      "cell_type": "code",
      "source": [],
      "metadata": {
        "id": "0lQ2V1m7di00"
      },
      "execution_count": null,
      "outputs": []
    },
    {
      "cell_type": "code",
      "source": [],
      "metadata": {
        "id": "wxWWtT5ddi3m"
      },
      "execution_count": null,
      "outputs": []
    },
    {
      "cell_type": "code",
      "source": [],
      "metadata": {
        "id": "dtrF0igcdi6O"
      },
      "execution_count": null,
      "outputs": []
    },
    {
      "cell_type": "code",
      "source": [],
      "metadata": {
        "id": "doTJe-B-di83"
      },
      "execution_count": null,
      "outputs": []
    },
    {
      "cell_type": "code",
      "source": [],
      "metadata": {
        "id": "vyUjP2Modi_q"
      },
      "execution_count": null,
      "outputs": []
    },
    {
      "cell_type": "code",
      "source": [],
      "metadata": {
        "id": "9zFo8raEdjCX"
      },
      "execution_count": null,
      "outputs": []
    },
    {
      "cell_type": "code",
      "source": [],
      "metadata": {
        "id": "9fwswOY1djFm"
      },
      "execution_count": null,
      "outputs": []
    },
    {
      "cell_type": "code",
      "source": [],
      "metadata": {
        "id": "LA6g3nzidjIB"
      },
      "execution_count": null,
      "outputs": []
    },
    {
      "cell_type": "code",
      "source": [],
      "metadata": {
        "id": "ZG_3MOnvdjK0"
      },
      "execution_count": null,
      "outputs": []
    },
    {
      "cell_type": "code",
      "source": [],
      "metadata": {
        "id": "EyB3ouvTdjNx"
      },
      "execution_count": null,
      "outputs": []
    },
    {
      "cell_type": "code",
      "source": [],
      "metadata": {
        "id": "gIvP-URfdjQR"
      },
      "execution_count": null,
      "outputs": []
    },
    {
      "cell_type": "code",
      "source": [],
      "metadata": {
        "id": "eiJtu3L9djTG"
      },
      "execution_count": null,
      "outputs": []
    },
    {
      "cell_type": "code",
      "source": [],
      "metadata": {
        "id": "DGdETjk0djWA"
      },
      "execution_count": null,
      "outputs": []
    },
    {
      "cell_type": "code",
      "source": [],
      "metadata": {
        "id": "mTD2WySedjZJ"
      },
      "execution_count": null,
      "outputs": []
    },
    {
      "cell_type": "code",
      "source": [],
      "metadata": {
        "id": "1itiPBbOdjb2"
      },
      "execution_count": null,
      "outputs": []
    },
    {
      "cell_type": "code",
      "source": [],
      "metadata": {
        "id": "YUAw4Hgedje-"
      },
      "execution_count": null,
      "outputs": []
    },
    {
      "cell_type": "code",
      "source": [],
      "metadata": {
        "id": "Yullq_mldjhQ"
      },
      "execution_count": null,
      "outputs": []
    }
  ]
}