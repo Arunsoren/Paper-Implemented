{
  "nbformat": 4,
  "nbformat_minor": 0,
  "metadata": {
    "colab": {
      "provenance": []
    },
    "kernelspec": {
      "name": "python3",
      "display_name": "Python 3"
    },
    "language_info": {
      "name": "python"
    }
  },
  "cells": [
    {
      "cell_type": "code",
      "execution_count": null,
      "metadata": {
        "id": "hdSjtEX93s1C"
      },
      "outputs": [],
      "source": [
        "import torch\n",
        "import math\n",
        "from torch import nn\n",
        "import torch.nn.functional as F"
      ]
    },
    {
      "cell_type": "code",
      "source": [
        "def scaled_dot_product(q, k , v , mask = None):\n",
        "  #q, k, v = 30 x 8 x200 x 64\n",
        "  d_k = q.size()[-1] #64\n",
        "  scaled = torch.matmul(q, k.transpose(-1, -2)) / math.sqrt(d_k) #30 x 8 x 200 x 200\n",
        "  print(f\"scaled.size(): {scaled.size()}\")\n",
        "  if mask is not None:\n",
        "    print(f\"--Adding Mask of shape{mask.size()} --\")\n",
        "    scaled += mask\n",
        "  attention =F.softmax(scaled, dim = -1)  # 30 x 8 x 200 x 200\n",
        "  values = torch.matmul(attention, v)      # 30 x 8 x 200x 64(200x200 * 200x64)\n",
        "  return values, attention\n"
      ],
      "metadata": {
        "id": "FaWMso5_33Sf"
      },
      "execution_count": null,
      "outputs": []
    },
    {
      "cell_type": "code",
      "source": [
        "class MultiHeadAttention(nn.Module):\n",
        "\n",
        "  def __init__(self, d_model, num_heads):\n",
        "    super().__init__()\n",
        "    self.d_model = d_model      #512\n",
        "    self.num_heads = num_heads    #8\n",
        "    self.head_dim = d_model // num_heads  #512/8 = 64\n",
        "    self.qkv_layer = nn.Linear(d_model, 3*d_model)  # 512x 1536(512*3)\n",
        "    self.linear_layer = nn.Linear(d_model, d_model)  #512 x 512\n",
        "\n",
        "  def forward(self, x, mask = None):\n",
        "    batch_size, max_sequence_length, d_model = x.size() #30 x 200 x 512\n",
        "    print(f\"x.size(): {x.size()}\")\n",
        "\n",
        "    qkv = self.qkv_layer(x)   #30 x 200 x 1536\n",
        "    print(f\"qkv.size(): {qkv.size()}\")\n",
        "\n",
        "    qkv = qkv.reshape(batch_size, max_sequence_length, self.num_heads, 3*self.head_dim)\n",
        "    print(f\"qkv.size(): {qkv.size()}\") # 30 x 200 x 8 x 192(64*3)\n",
        "\n",
        "    qkv = qkv.permute(0, 2, 1, 3) # 30 x 8 x 200 x 192\n",
        "    print(f\"qkv.size(): {qkv.size()}\")\n",
        "\n",
        "    q, k, v = qkv.chunk(3, dim = -1) #each 30 x 8 x 200 x 64\n",
        "    print(f\"q size: {q.size()}, k size: {k.size()}, v size: {v.size()}, \")\n",
        "\n",
        "    values, attention = scaled_dot_product(q, k, v, mask)\n",
        "    #attention = 30x 8 x 200 x 200 , values = 30x8x200x64\n",
        "    print(f\"values.size(): {values.size()}, attention.size:{ attention.size()} \")\n",
        "\n",
        "    values = values.reshape(batch_size, max_sequence_length, self.num_heads * self.head_dim)\n",
        "    print(f\"values.size(): {values.size()}\") # 30 x 200 x 512\n",
        "\n",
        "    out = self.linear_layer(values)\n",
        "    print(f\"out.size(): {out.size()}\")\n",
        "\n",
        "    return out"
      ],
      "metadata": {
        "id": "F1w771VI33U8"
      },
      "execution_count": null,
      "outputs": []
    },
    {
      "cell_type": "code",
      "source": [
        "class LayerNormalization(nn.Module):\n",
        "\n",
        "  def __init__(self, parameters_shape, eps = 1e-5):\n",
        "    super().__init__()\n",
        "    self.parameters_shape = parameters_shape  #512\n",
        "    self.eps = eps\n",
        "    self.gamma = nn.Parameter(torch.ones(parameters_shape))  #[512]\n",
        "    self.beta = nn.Parameter(torch.zeros(parameters_shape))   #[512]\n",
        "\n",
        "  def forward(self, inputs):  #30x200x512\n",
        "    dims = [-(i+1)for i in range(len(self.parameters_shape))]   #[-1]\n",
        "    mean = inputs.mean(dim = dims, keepdim = True)              # 30 x200 x1\n",
        "    print(f\"Mean ({mean.size()})\")\n",
        "\n",
        "    var = ((inputs - mean)**2).mean(dim = dims, keepdim= True)   #30x200x1\n",
        "    std = (var + self.eps).sqrt()                                #30x200x1\n",
        "    print(f\"Standard Deviation  ({std.size()})\")\n",
        "\n",
        "    y = (inputs - mean)/ std                                    #30x200x512\n",
        "    print(f\"y: {y.size()}\")\n",
        "\n",
        "    out = self.gamma*y + self.beta\n",
        "    print(f\"self.gamma: {self.gamma.size()}, self.beta: {self.beta.size()}\")\n",
        "    print(f\"out: {out.size()}\")\n",
        "\n",
        "    return out\n",
        "\n"
      ],
      "metadata": {
        "id": "JA3IXVuz33XP"
      },
      "execution_count": null,
      "outputs": []
    },
    {
      "cell_type": "code",
      "source": [
        "class PosionwiseFeedForward(nn.Module):\n",
        "\n",
        "  def __init__(self, d_model, hidden, drop_prob = 0.1):\n",
        "    super(PosionwiseFeedForward, self).__init__()\n",
        "    self.linear1 = nn.Linear(d_model, hidden)\n",
        "    self.linear2 = nn.Linear(hidden, d_model)\n",
        "    self.relu = nn.ReLU()\n",
        "    self.dropout = nn.Dropout(p = drop_prob)\n",
        "\n",
        "  def forward(self, x):\n",
        "    x = self.linear1(x)\n",
        "    print(f\"x after first linear layer: {x.size()}\")\n",
        "\n",
        "    x = self.relu(x)\n",
        "    print(f\"x after activation: {x.size()}\")\n",
        "\n",
        "    x = self.dropout(x)\n",
        "    print(f\"x after dropout: {x.size()}\")\n",
        "\n",
        "    x = self.linear2(x)\n",
        "    print(f\"x after 2nd linear layer: {x.size()}\")\n",
        "\n",
        "    return x"
      ],
      "metadata": {
        "id": "oNaP4ebV33Za"
      },
      "execution_count": null,
      "outputs": []
    },
    {
      "cell_type": "code",
      "source": [
        "class EncoderLayer(nn.Module):\n",
        "  def __init__(self, d_model ,ffn_hidden, num_heads, drop_prob):\n",
        "    super(EncoderLayer, self).__init__()\n",
        "    self.attention = MultiHeadAttention(d_model=d_model, num_heads= num_heads)\n",
        "    self.norm1 = LayerNormalization(parameters_shape=[d_model])\n",
        "    self.dropout1 = nn.Dropout(p=drop_prob)\n",
        "\n",
        "    self.ffn = PosionwiseFeedForward(d_model = d_model, hidden= ffn_hidden, drop_prob= drop_prob)\n",
        "    self.norm2 = LayerNormalization(parameters_shape=[d_model])\n",
        "    self.dropout2 = nn.Dropout(p = drop_prob)\n",
        "\n",
        "  def forward(self, x):\n",
        "    residual_x = x      #30 x 200 x 512\n",
        "\n",
        "    print(\"-----------ATTENTION 1-------------\")\n",
        "    x = self.attention(x, mask = None)     # 30 x200 x 512\n",
        "\n",
        "    print(\"--------------DROPOUT 1 ------------\")\n",
        "    x = self.dropout1(x)                   #30 x 200 x 512\n",
        "\n",
        "    print(\"----------ADD and NORM layer--------\")\n",
        "    x = self.norm1(x+ residual_x)\n",
        "\n",
        "    print(\"------------ATTENTION 2-------------\")\n",
        "    x = self.ffn(x)\n",
        "\n",
        "    print(\"------------DROPOUT 2 --------------\")\n",
        "    x = self.dropout2(x)\n",
        "\n",
        "    print(\"----------ADD and NORM layer 2------\")\n",
        "    x = self.norm2(x + residual_x)\n",
        "\n",
        "    return x\n"
      ],
      "metadata": {
        "id": "tK2F_evz33bq"
      },
      "execution_count": null,
      "outputs": []
    },
    {
      "cell_type": "code",
      "source": [
        "class Encoder(nn.Module):\n",
        "  def __init__(self, d_model, ffn_hidden, num_heads, drop_prob, num_layers):\n",
        "    super().__init__()\n",
        "    self.layers = nn.Sequential(*[EncoderLayer(d_model, ffn_hidden, num_heads, drop_prob)\n",
        "                                   for _ in range(num_layers)])\n",
        "\n",
        "  def forward(self, x):\n",
        "    x = self.layers(x)\n",
        "    return x\n"
      ],
      "metadata": {
        "id": "694v9PM133d7"
      },
      "execution_count": null,
      "outputs": []
    },
    {
      "cell_type": "code",
      "source": [
        "d_model = 512\n",
        "num_heads = 8\n",
        "drop_prob = 0.1\n",
        "batch_size = 30\n",
        "max_sequence_length = 200\n",
        "ffn_hidden = 2048\n",
        "num_layers = 5\n",
        "\n",
        "encoder = Encoder(d_model, ffn_hidden, num_heads, drop_prob, num_layers)"
      ],
      "metadata": {
        "id": "w3utsmwq33gO"
      },
      "execution_count": null,
      "outputs": []
    },
    {
      "cell_type": "code",
      "source": [
        "#test input - includes positional encoding\n",
        "\n",
        "x = torch.randn( (batch_size, max_sequence_length, d_model))\n",
        "out = encoder(x)"
      ],
      "metadata": {
        "colab": {
          "base_uri": "https://localhost:8080/"
        },
        "id": "bjCduKFw33iT",
        "outputId": "8f5dea56-04d0-4aa3-a43d-5cf6be156a5a"
      },
      "execution_count": null,
      "outputs": [
        {
          "output_type": "stream",
          "name": "stdout",
          "text": [
            "-----------ATTENTION 1-------------\n",
            "x.size(): torch.Size([30, 200, 512])\n",
            "qkv.size(): torch.Size([30, 200, 1536])\n",
            "qkv.size(): torch.Size([30, 200, 8, 192])\n",
            "qkv.size(): torch.Size([30, 8, 200, 192])\n",
            "q size: torch.Size([30, 8, 200, 64]), k size: torch.Size([30, 8, 200, 64]), v size: torch.Size([30, 8, 200, 64]), \n",
            "scaled.size(): torch.Size([30, 8, 200, 200])\n",
            "values.size(): torch.Size([30, 8, 200, 64]), attention.size:torch.Size([30, 8, 200, 200]) \n",
            "values.size(): torch.Size([30, 200, 512])\n",
            "out.size(): torch.Size([30, 200, 512])\n",
            "--------------DROPOUT 1 ------------\n",
            "----------ADD and NORM layer--------\n",
            "Mean (torch.Size([30, 200, 1]))\n",
            "Standard Deviation  (torch.Size([30, 200, 1]))\n",
            "y: torch.Size([30, 200, 512])\n",
            "self.gamma: torch.Size([512]), self.beta: torch.Size([512])\n",
            "out: torch.Size([30, 200, 512])\n",
            "------------ATTENTION 2-------------\n",
            "------------DROPOUT 2 --------------\n",
            "----------ADD and NORM layer 2------\n",
            "Mean (torch.Size([30, 200, 1]))\n",
            "Standard Deviation  (torch.Size([30, 200, 1]))\n",
            "y: torch.Size([30, 200, 512])\n",
            "self.gamma: torch.Size([512]), self.beta: torch.Size([512])\n",
            "out: torch.Size([30, 200, 512])\n",
            "-----------ATTENTION 1-------------\n",
            "x.size(): torch.Size([30, 200, 512])\n",
            "qkv.size(): torch.Size([30, 200, 1536])\n",
            "qkv.size(): torch.Size([30, 200, 8, 192])\n",
            "qkv.size(): torch.Size([30, 8, 200, 192])\n",
            "q size: torch.Size([30, 8, 200, 64]), k size: torch.Size([30, 8, 200, 64]), v size: torch.Size([30, 8, 200, 64]), \n",
            "scaled.size(): torch.Size([30, 8, 200, 200])\n",
            "values.size(): torch.Size([30, 8, 200, 64]), attention.size:torch.Size([30, 8, 200, 200]) \n",
            "values.size(): torch.Size([30, 200, 512])\n",
            "out.size(): torch.Size([30, 200, 512])\n",
            "--------------DROPOUT 1 ------------\n",
            "----------ADD and NORM layer--------\n",
            "Mean (torch.Size([30, 200, 1]))\n",
            "Standard Deviation  (torch.Size([30, 200, 1]))\n",
            "y: torch.Size([30, 200, 512])\n",
            "self.gamma: torch.Size([512]), self.beta: torch.Size([512])\n",
            "out: torch.Size([30, 200, 512])\n",
            "------------ATTENTION 2-------------\n",
            "------------DROPOUT 2 --------------\n",
            "----------ADD and NORM layer 2------\n",
            "Mean (torch.Size([30, 200, 1]))\n",
            "Standard Deviation  (torch.Size([30, 200, 1]))\n",
            "y: torch.Size([30, 200, 512])\n",
            "self.gamma: torch.Size([512]), self.beta: torch.Size([512])\n",
            "out: torch.Size([30, 200, 512])\n",
            "-----------ATTENTION 1-------------\n",
            "x.size(): torch.Size([30, 200, 512])\n",
            "qkv.size(): torch.Size([30, 200, 1536])\n",
            "qkv.size(): torch.Size([30, 200, 8, 192])\n",
            "qkv.size(): torch.Size([30, 8, 200, 192])\n",
            "q size: torch.Size([30, 8, 200, 64]), k size: torch.Size([30, 8, 200, 64]), v size: torch.Size([30, 8, 200, 64]), \n",
            "scaled.size(): torch.Size([30, 8, 200, 200])\n",
            "values.size(): torch.Size([30, 8, 200, 64]), attention.size:torch.Size([30, 8, 200, 200]) \n",
            "values.size(): torch.Size([30, 200, 512])\n",
            "out.size(): torch.Size([30, 200, 512])\n",
            "--------------DROPOUT 1 ------------\n",
            "----------ADD and NORM layer--------\n",
            "Mean (torch.Size([30, 200, 1]))\n",
            "Standard Deviation  (torch.Size([30, 200, 1]))\n",
            "y: torch.Size([30, 200, 512])\n",
            "self.gamma: torch.Size([512]), self.beta: torch.Size([512])\n",
            "out: torch.Size([30, 200, 512])\n",
            "------------ATTENTION 2-------------\n",
            "------------DROPOUT 2 --------------\n",
            "----------ADD and NORM layer 2------\n",
            "Mean (torch.Size([30, 200, 1]))\n",
            "Standard Deviation  (torch.Size([30, 200, 1]))\n",
            "y: torch.Size([30, 200, 512])\n",
            "self.gamma: torch.Size([512]), self.beta: torch.Size([512])\n",
            "out: torch.Size([30, 200, 512])\n",
            "-----------ATTENTION 1-------------\n",
            "x.size(): torch.Size([30, 200, 512])\n",
            "qkv.size(): torch.Size([30, 200, 1536])\n",
            "qkv.size(): torch.Size([30, 200, 8, 192])\n",
            "qkv.size(): torch.Size([30, 8, 200, 192])\n",
            "q size: torch.Size([30, 8, 200, 64]), k size: torch.Size([30, 8, 200, 64]), v size: torch.Size([30, 8, 200, 64]), \n",
            "scaled.size(): torch.Size([30, 8, 200, 200])\n",
            "values.size(): torch.Size([30, 8, 200, 64]), attention.size:torch.Size([30, 8, 200, 200]) \n",
            "values.size(): torch.Size([30, 200, 512])\n",
            "out.size(): torch.Size([30, 200, 512])\n",
            "--------------DROPOUT 1 ------------\n",
            "----------ADD and NORM layer--------\n",
            "Mean (torch.Size([30, 200, 1]))\n",
            "Standard Deviation  (torch.Size([30, 200, 1]))\n",
            "y: torch.Size([30, 200, 512])\n",
            "self.gamma: torch.Size([512]), self.beta: torch.Size([512])\n",
            "out: torch.Size([30, 200, 512])\n",
            "------------ATTENTION 2-------------\n",
            "------------DROPOUT 2 --------------\n",
            "----------ADD and NORM layer 2------\n",
            "Mean (torch.Size([30, 200, 1]))\n",
            "Standard Deviation  (torch.Size([30, 200, 1]))\n",
            "y: torch.Size([30, 200, 512])\n",
            "self.gamma: torch.Size([512]), self.beta: torch.Size([512])\n",
            "out: torch.Size([30, 200, 512])\n",
            "-----------ATTENTION 1-------------\n",
            "x.size(): torch.Size([30, 200, 512])\n",
            "qkv.size(): torch.Size([30, 200, 1536])\n",
            "qkv.size(): torch.Size([30, 200, 8, 192])\n",
            "qkv.size(): torch.Size([30, 8, 200, 192])\n",
            "q size: torch.Size([30, 8, 200, 64]), k size: torch.Size([30, 8, 200, 64]), v size: torch.Size([30, 8, 200, 64]), \n",
            "scaled.size(): torch.Size([30, 8, 200, 200])\n",
            "values.size(): torch.Size([30, 8, 200, 64]), attention.size:torch.Size([30, 8, 200, 200]) \n",
            "values.size(): torch.Size([30, 200, 512])\n",
            "out.size(): torch.Size([30, 200, 512])\n",
            "--------------DROPOUT 1 ------------\n",
            "----------ADD and NORM layer--------\n",
            "Mean (torch.Size([30, 200, 1]))\n",
            "Standard Deviation  (torch.Size([30, 200, 1]))\n",
            "y: torch.Size([30, 200, 512])\n",
            "self.gamma: torch.Size([512]), self.beta: torch.Size([512])\n",
            "out: torch.Size([30, 200, 512])\n",
            "------------ATTENTION 2-------------\n",
            "------------DROPOUT 2 --------------\n",
            "----------ADD and NORM layer 2------\n",
            "Mean (torch.Size([30, 200, 1]))\n",
            "Standard Deviation  (torch.Size([30, 200, 1]))\n",
            "y: torch.Size([30, 200, 512])\n",
            "self.gamma: torch.Size([512]), self.beta: torch.Size([512])\n",
            "out: torch.Size([30, 200, 512])\n"
          ]
        }
      ]
    },
    {
      "cell_type": "code",
      "source": [],
      "metadata": {
        "id": "DKA74ck133k_"
      },
      "execution_count": null,
      "outputs": []
    },
    {
      "cell_type": "code",
      "source": [],
      "metadata": {
        "id": "OZ8ZiKcz33nS"
      },
      "execution_count": null,
      "outputs": []
    },
    {
      "cell_type": "code",
      "source": [],
      "metadata": {
        "id": "6XM24IKE33r7"
      },
      "execution_count": null,
      "outputs": []
    },
    {
      "cell_type": "code",
      "source": [],
      "metadata": {
        "id": "Lc7XegBg33uV"
      },
      "execution_count": null,
      "outputs": []
    },
    {
      "cell_type": "code",
      "source": [],
      "metadata": {
        "id": "K7PAWQCo33w5"
      },
      "execution_count": null,
      "outputs": []
    },
    {
      "cell_type": "code",
      "source": [],
      "metadata": {
        "id": "MhdpQonL33zu"
      },
      "execution_count": null,
      "outputs": []
    },
    {
      "cell_type": "code",
      "source": [],
      "metadata": {
        "id": "2xfHHqnQ332V"
      },
      "execution_count": null,
      "outputs": []
    },
    {
      "cell_type": "code",
      "source": [],
      "metadata": {
        "id": "CahG7mym334w"
      },
      "execution_count": null,
      "outputs": []
    },
    {
      "cell_type": "code",
      "source": [],
      "metadata": {
        "id": "MMbgHEXv337g"
      },
      "execution_count": null,
      "outputs": []
    }
  ]
}